{
  "nbformat": 4,
  "nbformat_minor": 0,
  "metadata": {
    "colab": {
      "name": "4주차 과제.ipynb의 사본",
      "provenance": [],
      "collapsed_sections": [],
      "include_colab_link": true
    },
    "kernelspec": {
      "name": "python3",
      "display_name": "Python 3"
    }
  },
  "cells": [
    {
      "cell_type": "markdown",
      "metadata": {
        "id": "view-in-github",
        "colab_type": "text"
      },
      "source": [
        "<a href=\"https://colab.research.google.com/github/Baeseongbeen/-AI-/blob/master/%EC%9D%B8%EA%B3%B5%EC%A7%80%EB%8A%A5_4%EC%A3%BC%EC%B0%A8_%EA%B3%BC%EC%A0%9C.ipynb\" target=\"_parent\"><img src=\"https://colab.research.google.com/assets/colab-badge.svg\" alt=\"Open In Colab\"/></a>"
      ]
    },
    {
      "cell_type": "markdown",
      "metadata": {
        "id": "wxkL6PjwsI6L",
        "colab_type": "text"
      },
      "source": [
        "# 4주차 과제\n",
        "- 용어 정리\n",
        "- 딥러닝 강의 클론 코딩\n",
        "- 딥러닝 순전파 & 역전파 계산"
      ]
    },
    {
      "cell_type": "markdown",
      "metadata": {
        "id": "ixEtDe6_uGgI",
        "colab_type": "text"
      },
      "source": [
        "## 1. 용어 정리\n",
        "\n",
        "다음 제시된 단어의 정의(설명)를 정리하여 작성 하세요.\n",
        "\n",
        "* 2문장 이상 작성 해 주세요. \n",
        "* 주제(단어)와 크게 벗어나지만 않는다면 정답처리 됩니다.\n",
        "* 강의 뿐 아니라 기타 레퍼런스를 참고하여 작성하셔도 됩니다. (기타 레퍼런스를 참고하신 경우, 해당 레퍼런스를 정리하여 하단에 작성해 주세요.)\n"
      ]
    },
    {
      "cell_type": "markdown",
      "metadata": {
        "id": "0lfwat8eurKZ",
        "colab_type": "text"
      },
      "source": [
        "__(예시)__\n",
        "### 심층 신경망\n",
        ": 입력층과 출력층 사이에 여러 개의 은닉층들로 이뤄진 인공신경망이다. 심층 신경망은 일반적으로 인공신경망과 마찬가지로 복잡한 비선형 관계들을 모델링 할 수 있다. 신층신경망의 목적은 분류 및 수치예측을 하기 위함이고 이미지 트레이닝이나 문자인식과 같은 분야에서 매우 유용하게 쓰이고 있다."
      ]
    },
    {
      "cell_type": "markdown",
      "metadata": {
        "id": "Y8YJNKG_v65A",
        "colab_type": "text"
      },
      "source": [
        "### MCP 뉴런\n",
        ": 1943년 워랜 맥컬록과 월터 피츠가 처음으로 간소화된 뇌의 뉴런 개념 발표하였다.\n",
        "\n",
        " 뉴런들은 서로 신경세포로 연결되어 있고 신경세포는 화학적, 전기적 신호를 처리하고 전달하는데 이러한 신경세포를 이진 출력을 가지는 단순 논리 게이트로 설명한 것\n",
        "\n",
        "### 퍼셉트론\n",
        ": MCP 뉴런 모델을 기반으로 퍼셉트론 학습 개념 발표.\n",
        "\n",
        "입력을 받고, 입력 특성에 가중치를 곱하여 뉴런이 출력신호를 낼지 말지 결정하는데 퍼셉트론은 자동으로 최적의 가중치를 학습하는 알고리즘이다.\n",
        "\n",
        "### 역전파\n",
        ":뉴런의 가중치를 효율적으로 조정하기 위하여, 거꾸로 무엇인가를 전파하는 방식.\n",
        "\n",
        " 먼저는 지도데이터와 출력층을 비교하여 오차가 있다면, 은닉층과 출력층 사이의 가중치 갱신, 그 다음 입력층과 은닉층 사이의 가중치를 갱신 즉 신경망의 처리 방향과 반대로 가중치를 갱신하는 방법\n",
        "\n",
        "### 강화학습\n",
        ": 에이전트와 환경이 서로 상호작용 하며 보상을 최대화 하는 의사 결정 방법.\n",
        "\n",
        " 에이전트는 시행착오를 거처가며 환경에서 오는 보상을 최대화하는 방향으로 학습\n",
        "\n",
        "### 과적합\n",
        ": 학습 데이터를 과하게 학습하는 것을 의미.\n",
        "\n",
        " 학습데이터를 통해서 과하게 학습하기에 학습 데이터에 대해서는 오차가 감소하지만 실제 데이터에 대해서는 높은 오차값이 발생한다. \n",
        "\n",
        "### 차원의 저주\n",
        ": 고정된 크기의 훈련 데이터셋 차원이 늘어남에 따라 특성 공간이 점점 희소해 지는 현상.\n",
        "\n",
        " 차원이 과하게 많아지면 전혀 관련 없는 특성들이 개입될 확률이 높아져 패턴을 찾는 것을 방해할 수 있다. 그러하여 차원의 증가가 오히려 데이터 분석에 장애물이 되는 문제를 차원의 저주라고 한다.\n"
      ]
    },
    {
      "cell_type": "markdown",
      "metadata": {
        "id": "d-zfFXLCy6jD",
        "colab_type": "text"
      },
      "source": [
        "## 2. 딥러닝 강의 클론 코딩\n",
        "\n",
        "####__퍼셉트론 구조 구현하기__ \n",
        "딥러닝 강의(__딥러닝 원리[1] 3:15 ~ 5:15 부분__)를 보고 코드를 따라 치며 출력 결과를 만드세요.\n",
        " \n",
        "\n",
        "* 하나의 코드셀에 해당 코드를 한번에 다 적어서 실행해주세요 (__그렇게 하지 않을 경우, 아래 이미지와 같은 출력값이 나오지 않을 수 있습니다__)\n",
        "\n",
        "*__주의!__ 실제로 코딩해서 출력해보면 강의에 나온 출력 결과와 다르게 나옵니다!!\n"
      ]
    },
    {
      "cell_type": "code",
      "metadata": {
        "id": "S5yWOqjF0BaS",
        "colab_type": "code",
        "outputId": "b8d89fab-7f88-4cb1-a8c7-a1f40e2ff1c1",
        "colab": {
          "base_uri": "https://localhost:8080/",
          "height": 237
        }
      },
      "source": [
        "import tensorflow as tf\n",
        "tf.compat.v1.set_random_seed(2000)\n",
        "x=1\n",
        "y=0\n",
        "w=tf.random.normal([1], 0, 1)\n",
        "\n",
        "import math\n",
        "def signoid(x):\n",
        "  return 1/(1+ math.exp(-x))\n",
        "\n",
        "output = signoid(x * w)\n",
        "print(output)\n",
        "\n",
        "for i in range(1000):\n",
        "  output= signoid(x * w)\n",
        "  error = y - output\n",
        "  w = w + x *0.1 * error\n",
        "  if i %100 ==99:\n",
        "    print(\"학습횟수: \" ,i, \"Error :\", error, \"예측결과 : \", output)"
      ],
      "execution_count": 0,
      "outputs": [
        {
          "output_type": "stream",
          "text": [
            "0.42459013094980497\n",
            "학습횟수:  99 Error : -0.09621212008492164 예측결과 :  0.09621212008492164\n",
            "학습횟수:  199 Error : -0.05067023644594775 예측결과 :  0.05067023644594775\n",
            "학습횟수:  299 Error : -0.034081528756456474 예측결과 :  0.034081528756456474\n",
            "학습횟수:  399 Error : -0.025601082659454027 예측결과 :  0.025601082659454027\n",
            "학습횟수:  499 Error : -0.02047365065600552 예측결과 :  0.02047365065600552\n",
            "학습횟수:  599 Error : -0.017045716722986395 예측결과 :  0.017045716722986395\n",
            "학습횟수:  699 Error : -0.014595150677517923 예측결과 :  0.014595150677517923\n",
            "학습횟수:  799 Error : -0.012757355886489288 예측결과 :  0.012757355886489288\n",
            "학습횟수:  899 Error : -0.011328634127926224 예측결과 :  0.011328634127926224\n",
            "학습횟수:  999 Error : -0.010186432876026585 예측결과 :  0.010186432876026585\n"
          ],
          "name": "stdout"
        }
      ]
    },
    {
      "cell_type": "markdown",
      "metadata": {
        "id": "wcc5mzI9oZ7r",
        "colab_type": "text"
      },
      "source": [
        "![대체 텍스트](https://www.notion.so/image/https%3A%2F%2Fs3-us-west-2.amazonaws.com%2Fsecure.notion-static.com%2F0cceeed0-0235-4b0f-af88-0b8c377d5b4b%2F_2020-06-09__9.35.23.png?table=block&id=88fd8912-9356-49a4-9fda-a1a63fe96ea9&width=2870&cache=v2)"
      ]
    },
    {
      "cell_type": "markdown",
      "metadata": {
        "id": "kr0HVRk8fOom",
        "colab_type": "text"
      },
      "source": [
        "## 3. 딥러닝 순전파 & 역전파 계산\n",
        "\n",
        "딥러닝 강의(__딥러닝 원리[2] 0:55 ~ 4:32 부분__)에 나오는 순전파 & 역전파 계산에 대한 문제 입니다.\n",
        "\n",
        "해당 영상과 다음 이미지를 참고하여 다음 2가지 물음에 답하세요.\n",
        "\n",
        "\n",
        "(1) 학습률이 0.2 일 경우 출력층의 노드값\n",
        "\n",
        "(2) 학습률이 0.1과 0.2 중 기대출력값이 지도데이터 \"3\"과 더 가까운 학습률은?"
      ]
    },
    {
      "cell_type": "markdown",
      "metadata": {
        "id": "CpwPFWhOUzww",
        "colab_type": "text"
      },
      "source": [
        "![대체 텍스트](https://www.notion.so/image/https%3A%2F%2Fs3-us-west-2.amazonaws.com%2Fsecure.notion-static.com%2Ff54dfd45-92ec-44ae-9616-6949d2484a45%2F_2020-06-10__5.22.03.png?table=block&id=ee05da89-3ceb-4ad9-a2d3-c9f68d24d1d9&width=3580&cache=v2)"
      ]
    },
    {
      "cell_type": "markdown",
      "metadata": {
        "id": "B2OVY7w5U3CI",
        "colab_type": "text"
      },
      "source": [
        "## (1) 학습률이 0.2 일 경우 출력층의 노드값 : 1.6\n",
        "## (2) 학습률이 0.1과 0.2 중 기대출력값이 지도데이터 \"3\"과 더 가까운 학습률은? :0.1"
      ]
    },
    {
      "cell_type": "code",
      "metadata": {
        "id": "BgavfvqiWxBU",
        "colab_type": "code",
        "colab": {}
      },
      "source": [
        ""
      ],
      "execution_count": 0,
      "outputs": []
    }
  ]
}